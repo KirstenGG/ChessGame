{
 "cells": [
  {
   "cell_type": "markdown",
   "id": "71143183-e459-4a38-be82-ee9d88dcd702",
   "metadata": {},
   "source": [
    "Bishop"
   ]
  },
  {
   "cell_type": "code",
   "execution_count": null,
   "id": "0238dd83-0065-43cd-ba08-682dafff4801",
   "metadata": {},
   "outputs": [],
   "source": [
    "# Board is classGame "
   ]
  },
  {
   "cell_type": "code",
   "execution_count": 91,
   "id": "e4df1265-76c9-46e0-bc74-28183e02092c",
   "metadata": {},
   "outputs": [],
   "source": [
    "from abc import ABC, abstractmethod #abc is already installed in python. \n",
    "\n",
    "#creating the bishops\n",
    "class Bishop(Piece):\n",
    "    def __init__(self, pos):\n",
    "        self.pos = pos\n",
    "\n",
    "    def move_is_valid(self):\n",
    "        valid_moves = []\n",
    "\n",
    "        if pos[1]-pos[0] >= 0:\n",
    "            d1_initial = [0, pos[1]-pos[0]]\n",
    "        else:\n",
    "            d1_initial = [pos[0]-pos[1], 0]\n",
    "        \n",
    "        \n",
    "            \n",
    "        return(valid_moves)\n",
    "#there are four bishops in the game (w for white, b for black)\n",
    "#each bishop is an object of class Piece \n",
    "\n",
    "#defining attributes for bishops \n"
   ]
  },
  {
   "cell_type": "code",
   "execution_count": 72,
   "id": "8accb967-33cc-4fac-b8a7-cee40c3e24c4",
   "metadata": {},
   "outputs": [
    {
     "data": {
      "text/plain": [
       "[(1, 0), (2, 1), (3, 2), (4, 3), (6, 5), (7, 6)]"
      ]
     },
     "execution_count": 72,
     "metadata": {},
     "output_type": "execute_result"
    }
   ],
   "source": [
    "#Valid bishop moves for first diagonal\n",
    "pos = [5, 4]\n",
    "if pos[1]-pos[0] >= 0:\n",
    "    d1_initial = [0, pos[1]-pos[0]]\n",
    "else:\n",
    "    d1_initial = [pos[0]-pos[1], 0]\n",
    "    \n",
    "distance_to_final = 7 - max(pos[0],pos[1])\n",
    "\n",
    "if pos[1]-pos[0] >= 0:\n",
    "    d1_final = [pos[0] + distance_to_final, 7]\n",
    "else:\n",
    "    d1_final = [7, pos[1] + distance_to_final]\n",
    "\n",
    "d1_xlist = list(range(d1_initial[0], d1_final[0]+1))\n",
    "d1_ylist = list(range(d1_initial[1], d1_final[1]+1))\n",
    "d1_valids = []\n",
    "for i in range(len(d1_xlist)):\n",
    "    d1_valids.append((d1_xlist[i], d1_ylist[i]))\n",
    "d1_valids.remove((pos[0], pos[1]))\n",
    "\n",
    "d1_valids"
   ]
  },
  {
   "cell_type": "code",
   "execution_count": 90,
   "id": "44280942-a198-42a5-8942-1c12b77bcddc",
   "metadata": {},
   "outputs": [
    {
     "name": "stdout",
     "output_type": "stream",
     "text": [
      "[(2, 7), (3, 6), (4, 5), (6, 3), (7, 2)]\n"
     ]
    }
   ],
   "source": [
    "#Valid bishop moves for second diagonal\n",
    "\n",
    "sum = pos[1] + pos[0]\n",
    "if sum > 7:\n",
    "    d2_initial = sum-7\n",
    "    d2_final = 7\n",
    "else:\n",
    "    d2_initial = 0\n",
    "    d2_final = sum\n",
    "\n",
    "d2_xlist = list(range(d2_initial, d2_final+1))\n",
    "d2_ylist = list(range(d2_initial, d2_final+1))\n",
    "d2_ylist.reverse()\n",
    "d2_valids = []\n",
    "for i in range(len(d2_xlist)):\n",
    "    d2_valids.append((d2_xlist[i], d2_ylist[i]))\n",
    "d2_valids.remove((pos[0], pos[1]))\n",
    "\n",
    "\n",
    "print(d2_valids)"
   ]
  }
 ],
 "metadata": {
  "kernelspec": {
   "display_name": "Python 3 (ipykernel)",
   "language": "python",
   "name": "python3"
  },
  "language_info": {
   "codemirror_mode": {
    "name": "ipython",
    "version": 3
   },
   "file_extension": ".py",
   "mimetype": "text/x-python",
   "name": "python",
   "nbconvert_exporter": "python",
   "pygments_lexer": "ipython3",
   "version": "3.10.11"
  }
 },
 "nbformat": 4,
 "nbformat_minor": 5
}
