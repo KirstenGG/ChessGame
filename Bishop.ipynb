{
 "cells": [
  {
   "cell_type": "markdown",
   "id": "71143183-e459-4a38-be82-ee9d88dcd702",
   "metadata": {},
   "source": [
    "Bishop"
   ]
  },
  {
   "cell_type": "code",
   "execution_count": null,
   "id": "0238dd83-0065-43cd-ba08-682dafff4801",
   "metadata": {},
   "outputs": [],
   "source": [
    "# Board is classGame "
   ]
  },
  {
   "cell_type": "code",
   "execution_count": 14,
   "id": "e4df1265-76c9-46e0-bc74-28183e02092c",
   "metadata": {},
   "outputs": [],
   "source": [
    "from abc import ABC, abstractmethod #abc is already installed in python. \n",
    "\n",
    "#creating the bishops\n",
    "#class Bishop(Piece):\n",
    "class Bishop:\n",
    "    def __init__(self, pos):\n",
    "        self.pos = pos\n",
    "\n",
    "    def get_valids(self):\n",
    "        valid_moves = []\n",
    "\n",
    "        pos = self.pos\n",
    "        x = pos[0]\n",
    "        y = pos[1]\n",
    "        \n",
    "        if y-x >= 0:\n",
    "            d1_initial = [0, y-x]\n",
    "        else:\n",
    "            d1_initial = [x-y, 0]\n",
    "        \n",
    "        distance_to_final = 7 - max(x,y)\n",
    "\n",
    "        if y-x >= 0:\n",
    "            d1_final = [x + distance_to_final, 7]\n",
    "        else:\n",
    "            d1_final = [7, y + distance_to_final]\n",
    "        \n",
    "        d1_xlist = list(range(d1_initial[0], d1_final[0]+1))\n",
    "        d1_ylist = list(range(d1_initial[1], d1_final[1]+1))\n",
    "        d1_valids = []\n",
    "        for i in range(len(d1_xlist)):\n",
    "            d1_valids.append((d1_xlist[i], d1_ylist[i]))\n",
    "        d1_valids.remove((x, y))\n",
    "\n",
    "        sum = y + x\n",
    "        if sum > 7:\n",
    "            d2_initial = sum-7\n",
    "            d2_final = 7\n",
    "        else:\n",
    "            d2_initial = 0\n",
    "            d2_final = sum\n",
    "        \n",
    "        d2_xlist = list(range(d2_initial, d2_final+1))\n",
    "        d2_ylist = list(range(d2_initial, d2_final+1))\n",
    "        d2_ylist.reverse()\n",
    "        d2_valids = []\n",
    "        for i in range(len(d2_xlist)):\n",
    "            d2_valids.append((d2_xlist[i], d2_ylist[i]))\n",
    "        d2_valids.remove((x, y))\n",
    "\n",
    "        for i in d1_valids:\n",
    "            valid_moves.append(i)\n",
    "\n",
    "        for i in d2_valids:\n",
    "            valid_moves.append(i)\n",
    "        \n",
    "        return(valid_moves)"
   ]
  },
  {
   "cell_type": "code",
   "execution_count": 13,
   "id": "f04f4624-d25c-435f-aadb-da0aedd65f6d",
   "metadata": {},
   "outputs": [],
   "source": [
    "bishop = Bishop((3,4))"
   ]
  },
  {
   "cell_type": "code",
   "execution_count": 11,
   "id": "33be992b-398b-487e-a0cd-11c8f56cd56b",
   "metadata": {},
   "outputs": [
    {
     "data": {
      "text/plain": [
       "[(0, 1),\n",
       " (1, 2),\n",
       " (2, 3),\n",
       " (4, 5),\n",
       " (5, 6),\n",
       " (6, 7),\n",
       " (0, 7),\n",
       " (1, 6),\n",
       " (2, 5),\n",
       " (4, 3),\n",
       " (5, 2),\n",
       " (6, 1),\n",
       " (7, 0)]"
      ]
     },
     "execution_count": 11,
     "metadata": {},
     "output_type": "execute_result"
    }
   ],
   "source": [
    "bishop.get_valids()"
   ]
  },
  {
   "cell_type": "code",
   "execution_count": null,
   "id": "59b91b47-f0f0-4abd-850e-54d7b089e145",
   "metadata": {},
   "outputs": [],
   "source": []
  }
 ],
 "metadata": {
  "kernelspec": {
   "display_name": "Python 3 (ipykernel)",
   "language": "python",
   "name": "python3"
  },
  "language_info": {
   "codemirror_mode": {
    "name": "ipython",
    "version": 3
   },
   "file_extension": ".py",
   "mimetype": "text/x-python",
   "name": "python",
   "nbconvert_exporter": "python",
   "pygments_lexer": "ipython3",
   "version": "3.12.0"
  }
 },
 "nbformat": 4,
 "nbformat_minor": 5
}
