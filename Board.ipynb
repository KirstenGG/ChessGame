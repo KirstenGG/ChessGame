{
 "cells": [
  {
   "cell_type": "code",
   "execution_count": 151,
   "id": "da0f9eb6-a109-46b2-b57c-662b3475de28",
   "metadata": {},
   "outputs": [],
   "source": [
    "from abc import ABC, abstractmethod"
   ]
  },
  {
   "cell_type": "code",
   "execution_count": 35,
   "id": "b05e3455-b908-4fe5-8a7c-ff2ebc15f810",
   "metadata": {},
   "outputs": [],
   "source": [
    "class Board:\n",
    "    def __init__(self):\n",
    "        self.board = [[0, 0, 0, 0, 0, 0, 0, 0],\n",
    "                      [0, 0, 0, 0, 0, 0, 0, 0],\n",
    "                      [0, 0, 0, 0, 0, 0, 0, 0],\n",
    "                      [0, 0, 0, 0, 0, 0, 0, 0],\n",
    "                      [0, 0, 0, 0, 0, 0, 0, 0],\n",
    "                      [0, 0, 0, 0, 0, 0, 0, 0],\n",
    "                      [0, 0, 0, 0, 0, 0, 0, 0],\n",
    "                      [0, 0, 0, 0, 0, 0, 0, 0]]\n",
    "        \n",
    "        self.blank = '  '\n",
    "        self.winner = \"none\"\n",
    "        self.captured_pieces_white = []\n",
    "        self.captured_pieces_black = []\n",
    "        self.history = []\n",
    "    def __str__(self):\n",
    "        disp_board = \"\"\n",
    "        for i in range(64):\n",
    "            \n",
    "            if i%8 == 0:\n",
    "                disp_board += str(8-int(i/8)) + \" \"\n",
    "            \n",
    "            this_space = self.board[int(i/8)][i%8]\n",
    "            \n",
    "            piece_to_add = str(this_space) + \"|\"\n",
    "            disp_board += piece_to_add\n",
    "            \n",
    "            if i%8 == 7:\n",
    "                disp_board = disp_board[:-1] + \"\\n\"\n",
    "        disp_board += \"  a b c d e f g h\"\n",
    "        return disp_board\n",
    "\n",
    "    def show_history(self, player_input):\n",
    "        return self.history\n",
    "\n",
    "    def split_notation(self, notation):\n",
    "        notation_rank = list(notation)[1]\n",
    "        notation_file = list(notation)[0]\n",
    "        rank_to_y = {\"a\":0, \"b\":1, \"c\":2, \"d\":3, \"e\":4, \"f\":5, \"g\":6, \"h\":7}\n",
    "        notation_x = 8 - int(notation_rank)\n",
    "        notation_y = rank_to_y.get(notation_file)\n",
    "        return notation_x, notation_y\n",
    "\n",
    "    def get_piece_at(self, position):\n",
    "\n",
    "        position_xy = self.split_notation(position)\n",
    "        i = position_xy[0]\n",
    "        j = position_xy[1]\n",
    "        return self.board[i][j]\n",
    "\n",
    "    # checking move validity\n",
    "\n",
    "    def is_piece(self, position):\n",
    "\n",
    "        if self.get_piece_at(position) == 0:\n",
    "            return True\n",
    "        else:\n",
    "            return False\n",
    "\n",
    "    # uppercase is white\n",
    "    \n",
    "    def is_white(self, position):\n",
    "        \n",
    "        return self.get_piece_at(position).isupper()\n",
    "        \n",
    "    def move_is_valid(self, origin, destination):\n",
    "\n",
    "        if is_piece(origin):\n",
    "            \n",
    "            # get valid moves from Piece class\n",
    "\n",
    "            if not is_piece(destination):\n",
    "                return True\n",
    "\n",
    "            elif is_white(origin) == is_white(destination):\n",
    "                return False\n",
    "\n",
    "            else:\n",
    "                return True\n",
    "            \n",
    "        else:\n",
    "            return(\"No piece there\")"
   ]
  },
  {
   "cell_type": "code",
   "execution_count": 39,
   "id": "140613f3-5182-401f-bdb2-dc1e758629a2",
   "metadata": {},
   "outputs": [
    {
     "name": "stdout",
     "output_type": "stream",
     "text": [
      "8 0|0|0|0|0|0|0|0\n",
      "7 0|0|0|0|0|0|0|0\n",
      "6 0|0|0|P|0|0|0|0\n",
      "5 0|0|0|0|0|N|0|0\n",
      "4 0|0|0|0|0|0|0|0\n",
      "3 0|0|0|0|0|0|0|0\n",
      "2 0|0|0|0|0|0|0|0\n",
      "1 0|0|0|0|0|0|0|0\n",
      "  a b c d e f g h\n"
     ]
    }
   ],
   "source": [
    "chess = Board()\n",
    "chess.board[3][5] = \"N\"\n",
    "chess.board[2][3] = \"P\"\n",
    "chess.move("
   ]
  },
  {
   "cell_type": "code",
   "execution_count": 40,
   "id": "ac831c85-ecc6-4584-848a-52c4525c49ef",
   "metadata": {},
   "outputs": [
    {
     "data": {
      "text/plain": [
       "True"
      ]
     },
     "execution_count": 40,
     "metadata": {},
     "output_type": "execute_result"
    }
   ],
   "source": [
    "chess.is_allied(\"f5\", \"d6\")"
   ]
  },
  {
   "cell_type": "code",
   "execution_count": null,
   "id": "aba37103-b21f-43d2-b720-4ec4429e55a5",
   "metadata": {},
   "outputs": [],
   "source": []
  }
 ],
 "metadata": {
  "kernelspec": {
   "display_name": "Python 3 (ipykernel)",
   "language": "python",
   "name": "python3"
  },
  "language_info": {
   "codemirror_mode": {
    "name": "ipython",
    "version": 3
   },
   "file_extension": ".py",
   "mimetype": "text/x-python",
   "name": "python",
   "nbconvert_exporter": "python",
   "pygments_lexer": "ipython3",
   "version": "3.10.11"
  }
 },
 "nbformat": 4,
 "nbformat_minor": 5
}
