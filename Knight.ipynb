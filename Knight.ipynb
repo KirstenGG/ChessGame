{
 "cells": [
  {
   "cell_type": "markdown",
   "id": "cee20197-4440-41a6-90e9-2457734f9a33",
   "metadata": {},
   "source": [
    "Knight "
   ]
  },
  {
   "cell_type": "code",
   "execution_count": null,
   "id": "8600bfee-bb11-4124-b35c-cc45b866292b",
   "metadata": {},
   "outputs": [],
   "source": [
    "# Board is classGame "
   ]
  },
  {
   "cell_type": "code",
   "execution_count": null,
   "id": "64514df0-8828-4e05-8765-56194c6365f6",
   "metadata": {},
   "outputs": [],
   "source": [
    "One-two up/down, then two-one left/right \n",
    "\n",
    "class Knight:\n",
    "    def __init__(self, x, y):\n",
    "        self.position = (x,y)\n",
    "        self.has_moved = False "
   ]
  },
  {
   "cell_type": "markdown",
   "id": "b7a9b8e0-8e14-4203-8176-2b0487480d43",
   "metadata": {},
   "source": [
    " Of course, you also need to check whether new cell is free or only occupied by a piece of the opponent and whether the king is now threatened. "
   ]
  },
  {
   "cell_type": "code",
   "execution_count": null,
   "id": "c4f04487-a71c-45f1-af31-0fac1bc12d28",
   "metadata": {},
   "outputs": [],
   "source": [
    "def get_valid_moves(self, game):\n",
    "        valid_moves = []\n",
    "        moves = [(self.x-1, self.y-2), (self.x+1, self.y-2),  # up and left/right\n",
    "                 (self.x-1, self.y+2), (self.x+1, self.y+2),  # down and left/right\n",
    "                 (self.x+2, self.y-1), (self.x+2, self.y+1),  # right and up/down\n",
    "                 (self.x-2, self.y-1), (self.x-2, self.y+1)]  # left and up/down\n",
    "\n",
    "        for move in moves:\n",
    "            if game.move_within_bounds(move):\n",
    "                if not game.cell_is_piece(move):\n",
    "                    valid_moves.append(move)\n",
    "                if (game.cell_is_piece(move)) and game.board[move[0]][move[1]].player != self.player:\n",
    "                    valid_moves.append(move)\n",
    "\n",
    "        return valid_moves"
   ]
  },
  {
   "cell_type": "code",
   "execution_count": null,
   "id": "3a431160-178b-4c25-8a59-15617469e8de",
   "metadata": {},
   "outputs": [],
   "source": []
  }
 ],
 "metadata": {
  "kernelspec": {
   "display_name": "Python 3 (ipykernel)",
   "language": "python",
   "name": "python3"
  },
  "language_info": {
   "codemirror_mode": {
    "name": "ipython",
    "version": 3
   },
   "file_extension": ".py",
   "mimetype": "text/x-python",
   "name": "python",
   "nbconvert_exporter": "python",
   "pygments_lexer": "ipython3",
   "version": "3.12.0"
  }
 },
 "nbformat": 4,
 "nbformat_minor": 5
}
