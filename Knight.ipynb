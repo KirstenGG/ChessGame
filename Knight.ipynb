{
 "cells": [
  {
   "cell_type": "markdown",
   "id": "cee20197-4440-41a6-90e9-2457734f9a33",
   "metadata": {},
   "source": [
    "Knight "
   ]
  },
  {
   "cell_type": "code",
   "execution_count": null,
   "id": "8600bfee-bb11-4124-b35c-cc45b866292b",
   "metadata": {},
   "outputs": [],
   "source": [
    "# Board is classGame "
   ]
  },
  {
   "cell_type": "code",
   "execution_count": 23,
   "id": "64514df0-8828-4e05-8765-56194c6365f6",
   "metadata": {},
   "outputs": [],
   "source": [
    "# One-two up/down, then two-one left/right \n",
    "\n",
    "class Knight:\n",
    "    def __init__(self, pos):\n",
    "        self.pos = pos\n",
    "        self.has_moved = False \n",
    "    def get_valids(self):\n",
    "        x = self.pos[0]\n",
    "        y = self.pos[1]\n",
    "        valid_moves = []\n",
    "        moves = [(x-1, y-2), (x+1, y-2),  # up and left/right\n",
    "                 (x-1, y+2), (x+1, y+2),  # down and left/right\n",
    "                 (x+2, y-1), (x+2, y+1),  # right and up/down\n",
    "                 (x-2, y-1), (x-2, y+1)]  # left and up/down\n",
    "\n",
    "        for i in moves:\n",
    "            if not 0 <= i[0] < 8 or not 0 <= i[1] < 8:\n",
    "                pass\n",
    "            else:\n",
    "                valid_moves.append(i)\n",
    "\n",
    "        return valid_moves"
   ]
  },
  {
   "cell_type": "code",
   "execution_count": 27,
   "id": "c4f04487-a71c-45f1-af31-0fac1bc12d28",
   "metadata": {},
   "outputs": [
    {
     "data": {
      "text/plain": [
       "[(3, 0), (5, 0), (3, 4), (5, 4), (6, 1), (6, 3), (2, 1), (2, 3)]"
      ]
     },
     "execution_count": 27,
     "metadata": {},
     "output_type": "execute_result"
    }
   ],
   "source": [
    "knight = Knight((4,2))\n",
    "knight.get_valids()"
   ]
  },
  {
   "cell_type": "code",
   "execution_count": null,
   "id": "3a431160-178b-4c25-8a59-15617469e8de",
   "metadata": {},
   "outputs": [],
   "source": []
  },
  {
   "cell_type": "code",
   "execution_count": null,
   "id": "144a2ff4-32e7-4e2e-b27f-290dee704f54",
   "metadata": {},
   "outputs": [],
   "source": []
  }
 ],
 "metadata": {
  "kernelspec": {
   "display_name": "Python 3 (ipykernel)",
   "language": "python",
   "name": "python3"
  },
  "language_info": {
   "codemirror_mode": {
    "name": "ipython",
    "version": 3
   },
   "file_extension": ".py",
   "mimetype": "text/x-python",
   "name": "python",
   "nbconvert_exporter": "python",
   "pygments_lexer": "ipython3",
   "version": "3.12.0"
  }
 },
 "nbformat": 4,
 "nbformat_minor": 5
}
