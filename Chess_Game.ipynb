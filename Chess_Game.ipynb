{
 "cells": [
  {
   "cell_type": "code",
   "execution_count": 1,
   "id": "a48a812f-0d42-4ff8-9548-b9fbe2485bc5",
   "metadata": {
    "tags": []
   },
   "outputs": [
    {
     "name": "stdout",
     "output_type": "stream",
     "text": [
      "Requirement already satisfied: pygame in /Users/OMA/anaconda3/lib/python3.11/site-packages (2.5.2)\n",
      "Note: you may need to restart the kernel to use updated packages.\n"
     ]
    }
   ],
   "source": [
    "pip install pygame"
   ]
  },
  {
   "cell_type": "code",
   "execution_count": 2,
   "id": "06721aed-9c93-4d6f-91f3-8fb58cf59bf5",
   "metadata": {
    "tags": []
   },
   "outputs": [
    {
     "name": "stdout",
     "output_type": "stream",
     "text": [
      "pygame 2.5.2 (SDL 2.28.3, Python 3.11.5)\n",
      "Hello from the pygame community. https://www.pygame.org/contribute.html\n"
     ]
    }
   ],
   "source": [
    "import pygame"
   ]
  },
  {
   "cell_type": "code",
   "execution_count": 3,
   "id": "89cc66f8-3eff-44e4-9c1c-078c2c32e683",
   "metadata": {
    "tags": []
   },
   "outputs": [
    {
     "data": {
      "text/plain": [
       "(5, 0)"
      ]
     },
     "execution_count": 3,
     "metadata": {},
     "output_type": "execute_result"
    }
   ],
   "source": [
    "pygame.init()"
   ]
  },
  {
   "cell_type": "code",
   "execution_count": 8,
   "id": "4f850189-c6af-4c12-adad-dc6a5952ece3",
   "metadata": {
    "tags": []
   },
   "outputs": [],
   "source": [
    "WIDTH = 800\n",
    "HEIGHT = 800\n",
    "\n",
    "screen = pygame.display.set_mode([WIDTH,HEIGHT]) # error with just number without defining height and width\n",
    "pygame.display.set_caption('Chess Game')\n",
    "\n",
    "#font = pygame.font.Font('freesansbold.ttf',20)\n",
    "#medium_font = pygame.font.Font('freesansbold.ttf',40)\n",
    "#big_font = pygame.font.Font('freesansbold.ttf',50)"
   ]
  },
  {
   "cell_type": "code",
   "execution_count": null,
   "id": "fa627792-6595-412e-bcb7-7c6ad963617e",
   "metadata": {},
   "outputs": [],
   "source": [
    "# timer = pygame.time.clock()\n",
    "# fps = 60"
   ]
  },
  {
   "cell_type": "code",
   "execution_count": 9,
   "id": "cd3e8441-a623-4ac1-bf1a-ff34bdc54e81",
   "metadata": {
    "tags": []
   },
   "outputs": [],
   "source": [
    "# game pieces\n",
    "# chess board coordinates (row, col)\n",
    "# white bottom, black top\n",
    "\n",
    "white_pieces = ['rook','knight','bishop','king','queen','bishop','knight','rook',\n",
    "                'pawn','pawn','pawn','pawn','pawn','pawn','pawn','pawn']\n",
    "\n",
    "white_locations = [(0,0),(1,0),(2,0),(3,0),(4,0),(5,0),(6,0),(7,0),\n",
    "                  (0,1),(1,1),(2,1),(3,1),(4,1),(5.1),(6,1),(7,1)]\n",
    "\n",
    "black_pieces =['rook','knight','bishop','king','queen','bishop','knight','rook',\n",
    "                'pawn','pawn','pawn','pawn','pawn','pawn','pawn','pawn']\n",
    "\n",
    "black_locations = [(0,7),(1,7),(2,7),(3,7),(4,7),(5,7),(6,7),(7,7),\n",
    "                  (0,6),(1,6),(2,6),(3,6),(4,6),(5.6),(6,6),(7,6)]\n",
    "\n",
    "captured_pieces_white = []\n",
    "captured_pieces_black = []\n"
   ]
  },
  {
   "cell_type": "code",
   "execution_count": null,
   "id": "13035e19-bb33-4233-b8d8-96c90391ac9f",
   "metadata": {},
   "outputs": [],
   "source": [
    "# 0 - whites turn no selection: 1-whites turn piece selected: 2- black turn no selection, 3 - black turn piece selected\n",
    "# turn_step = 0\n",
    "# selection = 100\n",
    "# valid_moves = []"
   ]
  },
  {
   "cell_type": "code",
   "execution_count": 18,
   "id": "ab3676b2-b566-4f84-b4e5-c763547e3fa6",
   "metadata": {
    "tags": []
   },
   "outputs": [],
   "source": [
    "# load piece image\n",
    "black_queen = pygame.image.load('queen black.png')\n",
    "black_queen = pygame.transform.scale(black_queen, (80, 80))\n",
    "black_queen_small = pygame.transform.scale(black_queen, (45, 45))\n",
    "\n",
    "black_king = pygame.image.load('king black.png')\n",
    "black_king = pygame.transform.scale(black_king, (80, 80))\n",
    "black_king_small = pygame.transform.scale(black_king, (45, 45))\n",
    "\n",
    "black_rook = pygame.image.load('rook black.png')\n",
    "black_rook = pygame.transform.scale(black_rook, (80, 80))\n",
    "black_rook_small = pygame.transform.scale(black_rook, (45, 45))\n",
    "\n",
    "black_pawn = pygame.image.load('pawn black.png')\n",
    "black_pawn = pygame.transform.scale(black_pawn, (65, 65))\n",
    "black_pawn_small = pygame.transform.scale(black_pawn, (45, 45))\n",
    "\n",
    "black_bishop = pygame.image.load('bishop black.png')\n",
    "black_bishop = pygame.transform.scale(black_bishop, (80, 80))\n",
    "black_bishop_small = pygame.transform.scale(black_bishop, (45, 45))\n",
    "\n",
    "black_knight = pygame.image.load('knight black.png')\n",
    "black_knight = pygame.transform.scale(black_knight, (80, 80))\n",
    "black_knight_small = pygame.transform.scale(black_knight, (45, 45))\n",
    "\n",
    "white_queen = pygame.image.load('queen white.png')\n",
    "white_queen = pygame.transform.scale(white_queen, (80, 80))\n",
    "white_queen_small = pygame.transform.scale(white_queen, (45, 45))\n",
    "\n",
    "white_king = pygame.image.load('king white.png')\n",
    "white_king = pygame.transform.scale(white_king, (80, 80))\n",
    "white_king_small = pygame.transform.scale(white_king, (45, 45))\n",
    "\n",
    "white_rook = pygame.image.load('rook white.png')\n",
    "white_rook = pygame.transform.scale(white_rook, (80, 80))\n",
    "white_rook_small = pygame.transform.scale(white_rook, (45, 45))\n",
    "\n",
    "white_pawn = pygame.image.load('pawn white.png')\n",
    "white_pawn = pygame.transform.scale(white_pawn, (65, 65))\n",
    "white_pawn_small = pygame.transform.scale(white_pawn, (45, 45))\n",
    "\n",
    "white_bishop = pygame.image.load('bishop white.png')\n",
    "white_bishop = pygame.transform.scale(white_bishop, (80, 80))\n",
    "white_bishop_small = pygame.transform.scale(white_bishop, (45, 45))\n",
    "\n",
    "white_knight = pygame.image.load('knight white.png')\n",
    "white_knight = pygame.transform.scale(white_knight, (80, 80))\n",
    "white_knight_small = pygame.transform.scale(white_knight, (45, 45))\n",
    "\n",
    "white_images = [white_pawn, white_queen, white_king,\n",
    "                white_knight, white_rook, white_bishop]\n",
    "small_white_images = [white_pawn_small, white_queen_small, white_king_small, white_knight_small,\n",
    "                      white_rook_small, white_bishop_small]\n",
    "\n",
    "black_images = [black_pawn, black_queen, black_king,\n",
    "                black_knight, black_rook, black_bishop]\n",
    "small_black_images = [black_pawn_small, black_queen_small, black_king_small, black_knight_small,\n",
    "                      black_rook_small, black_bishop_small]\n",
    "\n",
    "piece_list = ['pawn', 'queen', 'king', 'knight', 'rook', 'bishop']"
   ]
  },
  {
   "cell_type": "code",
   "execution_count": null,
   "id": "5c2c9e02-8706-4ea1-9dce-80da86f5bd23",
   "metadata": {},
   "outputs": [],
   "source": [
    "# skip check variables/flashing counter"
   ]
  },
  {
   "cell_type": "code",
   "execution_count": null,
   "id": "621d03dc-ab7e-453f-b759-b2dfc762c789",
   "metadata": {},
   "outputs": [],
   "source": [
    "# skip draw main game board"
   ]
  },
  {
   "cell_type": "code",
   "execution_count": null,
   "id": "d19a5e43-d24d-427c-bc73-25337f51ea97",
   "metadata": {},
   "outputs": [],
   "source": [
    "# skip draw pieces onto board"
   ]
  },
  {
   "cell_type": "code",
   "execution_count": 12,
   "id": "4933c082-ce03-4d15-b994-8d4c619734c0",
   "metadata": {
    "tags": []
   },
   "outputs": [],
   "source": [
    "# skip function to check all pieces valid options on board\n",
    "\n",
    "def check_options (pieces, locations, turn):\n",
    "    moves_list = []\n",
    "    all_moves_list = []\n",
    "    for i in range(len(pieces)):\n",
    "        location = location[i]\n",
    "        piece = pieces[i]"
   ]
  },
  {
   "cell_type": "code",
   "execution_count": 13,
   "id": "8b6e695b-58a6-4c6f-bcae-547dbc99c112",
   "metadata": {
    "tags": []
   },
   "outputs": [],
   "source": [
    "# king valid moves\n",
    "\n",
    "def check_king(position, color):\n",
    "    moves_list = []\n",
    "    if color == 'white':\n",
    "        enemies_list = black_locations\n",
    "        friends_list = white_locations\n",
    "    else:\n",
    "        enimies_list = white_locations\n",
    "        friends_list = black_locations\n",
    "        \n",
    "    # king moves 1 square in any direction\n",
    "    targets = [(1,0),(-1,0),(0,1),(0,-1),\n",
    "               (1,1),(-1,-1),(1,-1),(-1,1)]\n",
    "    # NOT UNDERSTANDING THIS PART OF THE CODE\n",
    "    for i in range(8):\n",
    "        target = (position[0] + targets[i][0], position[1] + targets[i][1])\n",
    "        if target not in friends_list and 0 <= target[0] <= 7 and 0 <= target[1] <= 7:\n",
    "            moves_list.append(target)\n",
    "    return moves_list\n",
    "    \n",
    "    "
   ]
  },
  {
   "cell_type": "code",
   "execution_count": 14,
   "id": "eb882f16-8729-48d5-9711-ad29bbcbdb2a",
   "metadata": {
    "tags": []
   },
   "outputs": [],
   "source": [
    "# rook valid moves\n",
    "\n",
    "def check_rook(position, color):\n",
    "    moves_list = []\n",
    "    if color == 'white':\n",
    "        enemies_list = black_locations\n",
    "        friends_list = white_locations\n",
    "    else:\n",
    "        friends_list = black_locations\n",
    "        enemies_list = white_locations\n",
    "        \n",
    "    # NOT UNDERSTANDING THIS PART OF THE CODE   \n",
    "    for i in range(4):  # down, up, right, left\n",
    "        path = True\n",
    "        chain = 1\n",
    "        if i == 0:\n",
    "            x = 0\n",
    "            y = 1\n",
    "        elif i == 1:\n",
    "            x = 0\n",
    "            y = -1\n",
    "        elif i == 2:\n",
    "            x = 1\n",
    "            y = 0\n",
    "        else:\n",
    "            x = -1\n",
    "            y = 0\n",
    "        while path:\n",
    "            if (position[0] + (chain * x), position[1] + (chain * y)) not in friends_list and \\\n",
    "                    0 <= position[0] + (chain * x) <= 7 and 0 <= position[1] + (chain * y) <= 7:\n",
    "                moves_list.append(\n",
    "                    (position[0] + (chain * x), position[1] + (chain * y)))\n",
    "                if (position[0] + (chain * x), position[1] + (chain * y)) in enemies_list:\n",
    "                    path = False\n",
    "                chain += 1\n",
    "            else:\n",
    "                path = False\n",
    "    return moves_list"
   ]
  },
  {
   "cell_type": "code",
   "execution_count": null,
   "id": "65820b15-fd99-4154-b2c5-c4b72a656871",
   "metadata": {},
   "outputs": [],
   "source": []
  },
  {
   "cell_type": "code",
   "execution_count": null,
   "id": "bd10a701-c57d-4cf3-b234-c90f3a1ba386",
   "metadata": {},
   "outputs": [],
   "source": []
  },
  {
   "cell_type": "code",
   "execution_count": null,
   "id": "e074c927-00eb-4db8-bb57-efa2c7750c27",
   "metadata": {},
   "outputs": [],
   "source": [
    "'''\n",
    "\n",
    "Chess rules:\n",
    "1. White moves first\n",
    "2. King cannot move to where the opponent can attack\n",
    "3. King and rook cannot pass other pieces\n",
    "\n",
    "Game over when:\n",
    "1. checkmate\n",
    "2. one player quits\n",
    "3. one player surrenders\n",
    "\n",
    "'''"
   ]
  }
 ],
 "metadata": {
  "kernelspec": {
   "display_name": "Python 3 (ipykernel)",
   "language": "python",
   "name": "python3"
  },
  "language_info": {
   "codemirror_mode": {
    "name": "ipython",
    "version": 3
   },
   "file_extension": ".py",
   "mimetype": "text/x-python",
   "name": "python",
   "nbconvert_exporter": "python",
   "pygments_lexer": "ipython3",
   "version": "3.12.0"
  }
 },
 "nbformat": 4,
 "nbformat_minor": 5
}
