{
 "cells": [
  {
   "cell_type": "code",
   "execution_count": 3,
   "id": "c823c591-8a11-42f9-830a-095582824a86",
   "metadata": {},
   "outputs": [],
   "source": [
    "def split_notation(notation):\n",
    "        notation_rank = list(notation)[1]\n",
    "        notation_file = list(notation)[0]\n",
    "        rank_to_y = {\"a\":0, \"b\":1, \"c\":2, \"d\":3, \"e\":4, \"f\":5, \"g\":6, \"h\":7}\n",
    "        notation_x = 8 - int(notation_rank)\n",
    "        notation_y = rank_to_y.get(notation_file)\n",
    "        return notation_x, notation_y"
   ]
  },
  {
   "cell_type": "code",
   "execution_count": 2,
   "id": "7aa4bf54-08eb-4788-a336-b35d7c1c407e",
   "metadata": {},
   "outputs": [],
   "source": [
    "from abc import ABC, abstractmethod\n",
    "class Piece:\n",
    "    @abstractmethod\n",
    "    def __init__(self, position, is_white):\n",
    "        self.pos_x = split_notation(position)[0]\n",
    "        self.pos_y = split_notation(position)[1]\n",
    "        self.has_moved = False\n",
    "    \n",
    "    @abstractmethod\n",
    "    def make_move(self, destination):\n",
    "        dest_x = split_notation(destination)[0]\n",
    "        dest_y = split_notation(destination)[1]\n",
    "        if Board.move_is_valid():\n",
    "            self.pos_x = dest_x\n",
    "            self.pos_y = dest_y\n",
    "        else:\n",
    "            print(\"Invalid move, try again\")\n",
    "\n",
    "    @abstractmethod\n",
    "    def capture(self):\n",
    "        pass"
   ]
  }
 ],
 "metadata": {
  "kernelspec": {
   "display_name": "Python 3 (ipykernel)",
   "language": "python",
   "name": "python3"
  },
  "language_info": {
   "codemirror_mode": {
    "name": "ipython",
    "version": 3
   },
   "file_extension": ".py",
   "mimetype": "text/x-python",
   "name": "python",
   "nbconvert_exporter": "python",
   "pygments_lexer": "ipython3",
   "version": "3.10.11"
  }
 },
 "nbformat": 4,
 "nbformat_minor": 5
}
