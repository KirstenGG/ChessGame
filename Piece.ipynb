{
 "cells": [
  {
   "cell_type": "code",
   "execution_count": 3,
   "id": "c823c591-8a11-42f9-830a-095582824a86",
   "metadata": {},
   "outputs": [],
   "source": [
    "def split_notation(notation):\n",
    "        notation_rank = list(notation)[1]\n",
    "        notation_file = list(notation)[0]\n",
    "        rank_to_y = {\"a\":0, \"b\":1, \"c\":2, \"d\":3, \"e\":4, \"f\":5, \"g\":6, \"h\":7}\n",
    "        notation_x = 8 - int(notation_rank)\n",
    "        notation_y = rank_to_y.get(notation_file)\n",
    "        return notation_x, notation_y"
   ]
  },
  {
   "cell_type": "code",
   "execution_count": 5,
   "id": "7aa4bf54-08eb-4788-a336-b35d7c1c407e",
   "metadata": {},
   "outputs": [],
   "source": [
    "from abc import ABC, abstractmethod\n",
    "\n",
    "class Piece(ABC):\n",
    "    @abstractmethod\n",
    "    def __init__(self, pos, is_white):\n",
    "        self.pos = pos\n",
    "        self.is_white = is_white\n",
    "        self.has_moved = False\n",
    "    \n",
    "    @abstractmethod\n",
    "    \n",
    "\n",
    "class Rook(Piece):\n",
    "    def __init__(self, pos):\n",
    "        self.pos = pos\n",
    "        self.has_moved = False\n",
    "        \n",
    "    def get_valids(self):\n",
    "        x = self.pos[0]\n",
    "        y = self.pos[1]\n",
    "        \n",
    "        valid_moves_y = [(i, y) for i in range(8)] #  left or right\n",
    "        valid_moves_y.remove((3,4))\n",
    "        \n",
    "        valid_moves_x = [(x, i)for i in range(8)] # up or down              \n",
    "        valid_moves_x.remove((3,4))\n",
    "\n",
    "        valid_moves = []\n",
    "\n",
    "        for i in valid_moves_x:\n",
    "            valid_moves.append(i)\n",
    "\n",
    "        for i in valid_moves_y:\n",
    "            valid_moves.append(i)\n",
    "        \n",
    "        return valid_moves"
   ]
  },
  {
   "cell_type": "code",
   "execution_count": 6,
   "id": "fbcc8ece-65a2-4e43-87a9-fc0f9b92f7f0",
   "metadata": {},
   "outputs": [
    {
     "ename": "TypeError",
     "evalue": "Can't instantiate abstract class Rook without an implementation for abstract methods 'capture', 'make_move'",
     "output_type": "error",
     "traceback": [
      "\u001b[1;31m---------------------------------------------------------------------------\u001b[0m",
      "\u001b[1;31mTypeError\u001b[0m                                 Traceback (most recent call last)",
      "Cell \u001b[1;32mIn[6], line 1\u001b[0m\n\u001b[1;32m----> 1\u001b[0m rook \u001b[38;5;241m=\u001b[39m \u001b[43mRook\u001b[49m\u001b[43m(\u001b[49m\u001b[38;5;124;43m\"\u001b[39;49m\u001b[38;5;124;43mf8\u001b[39;49m\u001b[38;5;124;43m\"\u001b[39;49m\u001b[43m,\u001b[49m\u001b[43m \u001b[49m\u001b[38;5;28;43;01mTrue\u001b[39;49;00m\u001b[43m)\u001b[49m\n",
      "\u001b[1;31mTypeError\u001b[0m: Can't instantiate abstract class Rook without an implementation for abstract methods 'capture', 'make_move'"
     ]
    }
   ],
   "source": [
    "rook = Rook(\"f8\", True)"
   ]
  },
  {
   "cell_type": "code",
   "execution_count": null,
   "id": "735ac308-3a85-4dd9-a9ea-53074fcee3a6",
   "metadata": {},
   "outputs": [],
   "source": []
  }
 ],
 "metadata": {
  "kernelspec": {
   "display_name": "Python 3 (ipykernel)",
   "language": "python",
   "name": "python3"
  },
  "language_info": {
   "codemirror_mode": {
    "name": "ipython",
    "version": 3
   },
   "file_extension": ".py",
   "mimetype": "text/x-python",
   "name": "python",
   "nbconvert_exporter": "python",
   "pygments_lexer": "ipython3",
   "version": "3.12.0"
  }
 },
 "nbformat": 4,
 "nbformat_minor": 5
}
