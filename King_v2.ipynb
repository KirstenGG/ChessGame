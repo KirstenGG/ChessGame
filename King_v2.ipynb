{
 "cells": [
  {
   "cell_type": "code",
   "execution_count": 55,
   "id": "224f5a20-a997-4e4b-bf01-1df998625e87",
   "metadata": {
    "tags": []
   },
   "outputs": [],
   "source": [
    "# notation\n",
    "def split_notation(notation):\n",
    "        notation_rank = list(notation)[1]\n",
    "        notation_file = list(notation)[0]\n",
    "        rank_to_y = {\"a\":0, \"b\":1, \"c\":2, \"d\":3, \"e\":4, \"f\":5, \"g\":6, \"h\":7}\n",
    "        notation_x = 8 - int(notation_rank)\n",
    "        notation_y = rank_to_y.get(notation_file)\n",
    "        return notation_x, notation_y"
   ]
  },
  {
   "cell_type": "code",
   "execution_count": 56,
   "id": "1526b1be-6d70-4693-a189-a9c249106d45",
   "metadata": {
    "tags": []
   },
   "outputs": [
    {
     "data": {
      "text/plain": [
       "(5, 3)"
      ]
     },
     "execution_count": 56,
     "metadata": {},
     "output_type": "execute_result"
    }
   ],
   "source": [
    "split_notation('d3')"
   ]
  },
  {
   "cell_type": "code",
   "execution_count": 49,
   "id": "a4ca618b-33d0-418c-9fd3-709eb0c88f39",
   "metadata": {
    "tags": []
   },
   "outputs": [],
   "source": [
    "from abc import ABC, abstractmethod\n",
    "\n",
    "class Piece:\n",
    "    \n",
    "    #original code from Piece file\n",
    "    @abstractmethod\n",
    "    def __init__(self, position, is_white):\n",
    "        self.pos_x = split_notation(position)[0]\n",
    "        self.pos_y = split_notation(position)[1]\n",
    "        self.has_moved = False\n",
    "    \n",
    "    #original code from Piece file\n",
    "    @abstractmethod\n",
    "    def make_move(self, destination):\n",
    "        dest_x = split_notation(destination)[0]\n",
    "        dest_y = split_notation(destination)[1]\n",
    "        if Board.move_is_valid():\n",
    "            self.pos_x = dest_x\n",
    "            self.pos_y = dest_y\n",
    "        else:\n",
    "            print(\"Invalid move, try again\")\n",
    "    \n",
    "    # added due to error mentioning split_notation funtion not in Piece\n",
    "    @abstractmethod\n",
    "    def split_notation(notation):\n",
    "        notation_rank = list(notation)[1]\n",
    "        notation_file = list(notation)[0]\n",
    "        rank_to_y = {\"a\":0, \"b\":1, \"c\":2, \"d\":3, \"e\":4, \"f\":5, \"g\":6, \"h\":7}\n",
    "        notation_x = 8 - int(notation_rank)\n",
    "        notation_y = rank_to_y.get(notation_file)\n",
    "        return notation_x, notation_y            \n",
    "    \n",
    "    # added due to error mentioning get_piece_at() funtion not in Piece        \n",
    "    @abstractmethod\n",
    "    def get_piece_at(self, position):\n",
    "\n",
    "        position_xy = self.split_notation(position)\n",
    "        i = position_xy[0]\n",
    "        j = position_xy[1]\n",
    "        return self.board[i][j]\n",
    "    \n",
    "    # added due to error mentioning is_piece() funtion not in Piece  \n",
    "    @abstractmethod\n",
    "    def is_piece(self, position):\n",
    "\n",
    "        if self.get_piece_at(position) == 0:\n",
    "            return True\n",
    "        else:\n",
    "            return False\n",
    "        \n",
    "    #original code from Piece file\n",
    "    @abstractmethod\n",
    "    def capture(self):\n",
    "        pass"
   ]
  },
  {
   "cell_type": "code",
   "execution_count": 108,
   "id": "d9eedaab-25f1-4539-b738-ec3ffde99cda",
   "metadata": {
    "tags": []
   },
   "outputs": [],
   "source": [
    "# create king class as child class of class Piece()\n",
    "\n",
    "class King(Piece):\n",
    "    \n",
    "    def __init__(self, color, position):\n",
    "        self.color = color\n",
    "        self.position = None\n",
    "        \n",
    "    # Rule for king's move: 1 square to each direction, 8 in total    \n",
    "    def is_valid_move(self,new_position):\n",
    "        col_diff = abs(ord(new_position[0])) - abs(ord(self.position[0]))\n",
    "        row_diff = abs(int(new_position[1])) - abs(ord(self.position[1]))\n",
    "        \n",
    "        return col_diff<=1 and row_diff<=1\n",
    "\n",
    "    # make move\n",
    "    def move(self,new_position):\n",
    "        if self.is_valid_move(new_position):\n",
    "            self.position = new_position\n",
    "            print(f'{self.color} king moves to {new_position}')\n",
    "        else:\n",
    "            print('Invalid move for the king')"
   ]
  },
  {
   "cell_type": "code",
   "execution_count": 106,
   "id": "9652ef5d-d07d-48de-ac3e-c5fc297dfb42",
   "metadata": {
    "tags": []
   },
   "outputs": [],
   "source": [
    "   \n",
    "    #used try/except doesn't work as well...\n",
    "    \n",
    "    '''\n",
    "    def move(self,new_position):\n",
    "        try:\n",
    "            if self.is_valid_move(new_position):\n",
    "                print(f'{self.color} king moves to {new_position}')\n",
    "            else:\n",
    "                print('Invalid move for the king')\n",
    "                \n",
    "        except TypeError:\n",
    "            return('error')\n",
    "    '''"
   ]
  },
  {
   "cell_type": "code",
   "execution_count": 93,
   "id": "0b10aa9b-37ae-4ff9-bc61-35ebddd5ca3a",
   "metadata": {
    "tags": []
   },
   "outputs": [
    {
     "name": "stdout",
     "output_type": "stream",
     "text": [
      "<__main__.King object at 0x107495f50>\n"
     ]
    }
   ],
   "source": [
    "# create kings and their initial position\n",
    "white_king = King('white','d4')\n",
    "black_king = King('black','e5')"
   ]
  },
  {
   "cell_type": "code",
   "execution_count": 109,
   "id": "8f13a0cd-604e-4cab-bf2f-c7a5ffbbedaa",
   "metadata": {
    "tags": []
   },
   "outputs": [
    {
     "ename": "TypeError",
     "evalue": "'NoneType' object is not subscriptable",
     "output_type": "error",
     "traceback": [
      "\u001b[0;31m---------------------------------------------------------------------------\u001b[0m",
      "\u001b[0;31mTypeError\u001b[0m                                 Traceback (most recent call last)",
      "Cell \u001b[0;32mIn[109], line 2\u001b[0m\n\u001b[1;32m      1\u001b[0m \u001b[38;5;66;03m# check valid moves\u001b[39;00m\n\u001b[0;32m----> 2\u001b[0m white_king\u001b[38;5;241m.\u001b[39mmove(\u001b[38;5;124m'\u001b[39m\u001b[38;5;124me6\u001b[39m\u001b[38;5;124m'\u001b[39m)\n",
      "Cell \u001b[0;32mIn[108], line 18\u001b[0m, in \u001b[0;36mKing.move\u001b[0;34m(self, new_position)\u001b[0m\n\u001b[1;32m     17\u001b[0m \u001b[38;5;28;01mdef\u001b[39;00m \u001b[38;5;21mmove\u001b[39m(\u001b[38;5;28mself\u001b[39m,new_position):\n\u001b[0;32m---> 18\u001b[0m     \u001b[38;5;28;01mif\u001b[39;00m \u001b[38;5;28mself\u001b[39m\u001b[38;5;241m.\u001b[39mis_valid_move(new_position):\n\u001b[1;32m     19\u001b[0m         \u001b[38;5;28mself\u001b[39m\u001b[38;5;241m.\u001b[39mposition \u001b[38;5;241m=\u001b[39m new_position\n\u001b[1;32m     20\u001b[0m         \u001b[38;5;28mprint\u001b[39m(\u001b[38;5;124mf\u001b[39m\u001b[38;5;124m'\u001b[39m\u001b[38;5;132;01m{\u001b[39;00m\u001b[38;5;28mself\u001b[39m\u001b[38;5;241m.\u001b[39mcolor\u001b[38;5;132;01m}\u001b[39;00m\u001b[38;5;124m king moves to \u001b[39m\u001b[38;5;132;01m{\u001b[39;00mnew_position\u001b[38;5;132;01m}\u001b[39;00m\u001b[38;5;124m'\u001b[39m)\n",
      "Cell \u001b[0;32mIn[108], line 11\u001b[0m, in \u001b[0;36mKing.is_valid_move\u001b[0;34m(self, new_position)\u001b[0m\n\u001b[1;32m     10\u001b[0m \u001b[38;5;28;01mdef\u001b[39;00m \u001b[38;5;21mis_valid_move\u001b[39m(\u001b[38;5;28mself\u001b[39m,new_position):\n\u001b[0;32m---> 11\u001b[0m     col_diff \u001b[38;5;241m=\u001b[39m \u001b[38;5;28mabs\u001b[39m(\u001b[38;5;28mord\u001b[39m(new_position[\u001b[38;5;241m0\u001b[39m])) \u001b[38;5;241m-\u001b[39m \u001b[38;5;28mabs\u001b[39m(\u001b[38;5;28mord\u001b[39m(\u001b[38;5;28mself\u001b[39m\u001b[38;5;241m.\u001b[39mposition[\u001b[38;5;241m0\u001b[39m]))\n\u001b[1;32m     12\u001b[0m     row_diff \u001b[38;5;241m=\u001b[39m \u001b[38;5;28mabs\u001b[39m(\u001b[38;5;28mint\u001b[39m(new_position[\u001b[38;5;241m1\u001b[39m])) \u001b[38;5;241m-\u001b[39m \u001b[38;5;28mabs\u001b[39m(\u001b[38;5;28mord\u001b[39m(\u001b[38;5;28mself\u001b[39m\u001b[38;5;241m.\u001b[39mposition[\u001b[38;5;241m1\u001b[39m]))\n\u001b[1;32m     14\u001b[0m     \u001b[38;5;28;01mreturn\u001b[39;00m col_diff\u001b[38;5;241m<\u001b[39m\u001b[38;5;241m=\u001b[39m\u001b[38;5;241m1\u001b[39m \u001b[38;5;129;01mand\u001b[39;00m row_diff\u001b[38;5;241m<\u001b[39m\u001b[38;5;241m=\u001b[39m\u001b[38;5;241m1\u001b[39m\n",
      "\u001b[0;31mTypeError\u001b[0m: 'NoneType' object is not subscriptable"
     ]
    }
   ],
   "source": [
    "# check valid moves\n",
    "white_king.move('e6')"
   ]
  },
  {
   "cell_type": "code",
   "execution_count": 102,
   "id": "685c24ec-042c-427c-a59f-4005a86dfaa6",
   "metadata": {
    "tags": []
   },
   "outputs": [
    {
     "ename": "TypeError",
     "evalue": "'NoneType' object is not subscriptable",
     "output_type": "error",
     "traceback": [
      "\u001b[0;31m---------------------------------------------------------------------------\u001b[0m",
      "\u001b[0;31mTypeError\u001b[0m                                 Traceback (most recent call last)",
      "Cell \u001b[0;32mIn[102], line 2\u001b[0m\n\u001b[1;32m      1\u001b[0m \u001b[38;5;66;03m# check invalid moves\u001b[39;00m\n\u001b[0;32m----> 2\u001b[0m black_king\u001b[38;5;241m.\u001b[39mmove(\u001b[38;5;124m'\u001b[39m\u001b[38;5;124me3\u001b[39m\u001b[38;5;124m'\u001b[39m)\n",
      "Cell \u001b[0;32mIn[90], line 18\u001b[0m, in \u001b[0;36mKing.move\u001b[0;34m(self, new_position)\u001b[0m\n\u001b[1;32m     17\u001b[0m \u001b[38;5;28;01mdef\u001b[39;00m \u001b[38;5;21mmove\u001b[39m(\u001b[38;5;28mself\u001b[39m,new_position):\n\u001b[0;32m---> 18\u001b[0m     \u001b[38;5;28;01mif\u001b[39;00m \u001b[38;5;28mself\u001b[39m\u001b[38;5;241m.\u001b[39mis_valid_move(new_position):\n\u001b[1;32m     19\u001b[0m         \u001b[38;5;28mself\u001b[39m\u001b[38;5;241m.\u001b[39mposition \u001b[38;5;241m=\u001b[39m new_position\n\u001b[1;32m     20\u001b[0m         \u001b[38;5;28mprint\u001b[39m(\u001b[38;5;124mf\u001b[39m\u001b[38;5;124m'\u001b[39m\u001b[38;5;132;01m{\u001b[39;00m\u001b[38;5;28mself\u001b[39m\u001b[38;5;241m.\u001b[39mcolor\u001b[38;5;132;01m}\u001b[39;00m\u001b[38;5;124m king moves to \u001b[39m\u001b[38;5;132;01m{\u001b[39;00mnew_position\u001b[38;5;132;01m}\u001b[39;00m\u001b[38;5;124m'\u001b[39m)\n",
      "Cell \u001b[0;32mIn[90], line 11\u001b[0m, in \u001b[0;36mKing.is_valid_move\u001b[0;34m(self, new_position)\u001b[0m\n\u001b[1;32m     10\u001b[0m \u001b[38;5;28;01mdef\u001b[39;00m \u001b[38;5;21mis_valid_move\u001b[39m(\u001b[38;5;28mself\u001b[39m,new_position):\n\u001b[0;32m---> 11\u001b[0m     col_diff \u001b[38;5;241m=\u001b[39m \u001b[38;5;28mabs\u001b[39m(\u001b[38;5;28mord\u001b[39m(new_position[\u001b[38;5;241m0\u001b[39m])) \u001b[38;5;241m-\u001b[39m \u001b[38;5;28mabs\u001b[39m(\u001b[38;5;28mord\u001b[39m(\u001b[38;5;28mself\u001b[39m\u001b[38;5;241m.\u001b[39mposition[\u001b[38;5;241m0\u001b[39m]))\n\u001b[1;32m     12\u001b[0m     row_diff \u001b[38;5;241m=\u001b[39m \u001b[38;5;28mabs\u001b[39m(\u001b[38;5;28mint\u001b[39m(new_position[\u001b[38;5;241m1\u001b[39m])) \u001b[38;5;241m-\u001b[39m \u001b[38;5;28mabs\u001b[39m(\u001b[38;5;28mord\u001b[39m(\u001b[38;5;28mself\u001b[39m\u001b[38;5;241m.\u001b[39mposition[\u001b[38;5;241m1\u001b[39m]))\n\u001b[1;32m     14\u001b[0m     \u001b[38;5;28;01mreturn\u001b[39;00m col_diff\u001b[38;5;241m<\u001b[39m\u001b[38;5;241m=\u001b[39m\u001b[38;5;241m1\u001b[39m \u001b[38;5;129;01mand\u001b[39;00m row_diff\u001b[38;5;241m<\u001b[39m\u001b[38;5;241m=\u001b[39m\u001b[38;5;241m1\u001b[39m\n",
      "\u001b[0;31mTypeError\u001b[0m: 'NoneType' object is not subscriptable"
     ]
    }
   ],
   "source": [
    "# check invalid moves\n",
    "black_king.move('e3')"
   ]
  },
  {
   "cell_type": "code",
   "execution_count": null,
   "id": "5cccceec-bf88-496b-b279-18896b1da423",
   "metadata": {},
   "outputs": [],
   "source": []
  }
 ],
 "metadata": {
  "kernelspec": {
   "display_name": "Python 3 (ipykernel)",
   "language": "python",
   "name": "python3"
  },
  "language_info": {
   "codemirror_mode": {
    "name": "ipython",
    "version": 3
   },
   "file_extension": ".py",
   "mimetype": "text/x-python",
   "name": "python",
   "nbconvert_exporter": "python",
   "pygments_lexer": "ipython3",
   "version": "3.11.5"
  }
 },
 "nbformat": 4,
 "nbformat_minor": 5
}
