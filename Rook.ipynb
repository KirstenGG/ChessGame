{
 "cells": [
  {
   "cell_type": "code",
   "execution_count": 3,
   "id": "8296626e-b390-486f-b5a9-40c05b8146ff",
   "metadata": {},
   "outputs": [
    {
     "ename": "NameError",
     "evalue": "name 'Piece' is not defined",
     "output_type": "error",
     "traceback": [
      "\u001b[0;31m---------------------------------------------------------------------------\u001b[0m",
      "\u001b[0;31mNameError\u001b[0m                                 Traceback (most recent call last)",
      "Cell \u001b[0;32mIn[3], line 4\u001b[0m\n\u001b[1;32m      1\u001b[0m \u001b[38;5;28;01mfrom\u001b[39;00m \u001b[38;5;21;01mabc\u001b[39;00m \u001b[38;5;28;01mimport\u001b[39;00m ABC, abstractmethod \u001b[38;5;66;03m#abc is already installed in python. \u001b[39;00m\n\u001b[1;32m      3\u001b[0m \u001b[38;5;66;03m#creating the bishops\u001b[39;00m\n\u001b[0;32m----> 4\u001b[0m \u001b[38;5;28;01mclass\u001b[39;00m \u001b[38;5;21;01mRook\u001b[39;00m(\u001b[43mPiece\u001b[49m):\n\u001b[1;32m      5\u001b[0m     \u001b[38;5;28;01mdef\u001b[39;00m \u001b[38;5;21m__init__\u001b[39m(\u001b[38;5;28mself\u001b[39m, pos):\n\u001b[1;32m      6\u001b[0m         \u001b[38;5;28mself\u001b[39m\u001b[38;5;241m.\u001b[39mpos \u001b[38;5;241m=\u001b[39m pos\n",
      "\u001b[0;31mNameError\u001b[0m: name 'Piece' is not defined"
     ]
    }
   ],
   "source": [
    "from abc import ABC, abstractmethod #abc is already installed in python. \n",
    "\n",
    "#creating the bishops\n",
    "class Rook(Piece):\n",
    "    def __init__(self, pos):\n",
    "        self.pos = pos\n",
    "        \n",
    "\n",
    "    def move_is_valid(self):\n",
    "        valid_moves = []\n",
    "        \n",
    "        for i in range(-1*self.pos[0], 8-self.pos[0]):\n",
    "            potential_pos = list(self.pos)\n",
    "            potential_pos[0] += i\n",
    "            valid_moves.append(tuple(potential_pos))\n",
    "        valid_moves.remove((self.pos[0],self.pos[1]))\n",
    "            \n",
    "        for i in range(-1*self.pos[1], 8-self.pos[1]):\n",
    "            potential_pos = list(self.pos)\n",
    "            potential_pos[1] += i\n",
    "            valid_moves.append(tuple(potential_pos))\n",
    "        valid_moves.remove((self.pos[0],self.pos[1]))\n",
    "            \n",
    "        return(valid_moves)\n",
    "#there are four bishops in the game (w for white, b for black)\n",
    "#each bishop is an object of class Piece \n",
    "\n",
    "#defining attributes for bishops \n"
   ]
  },
  {
   "cell_type": "code",
   "execution_count": 51,
   "id": "9ea046d2-47b6-40c0-b063-95f335d321df",
   "metadata": {},
   "outputs": [],
   "source": [
    "from abc import ABC, abstractmethod #abc is already installed in python. \n",
    "\n",
    "#creating the bishops\n",
    "class Rook:\n",
    "    def __init__(self, pos):\n",
    "        self.pos = pos\n",
    "\n",
    "    def move_is_valid(self):\n",
    "        valid_moves = []\n",
    "        \n",
    "        for i in range(-1*self.pos[0], 8-self.pos[0]):\n",
    "            potential_pos = list(self.pos)\n",
    "            potential_pos[0] += i\n",
    "            valid_moves.append(tuple(potential_pos))\n",
    "        valid_moves.remove((self.pos[0],self.pos[1]))\n",
    "            \n",
    "        for i in range(-1*self.pos[1], 8-self.pos[1]):\n",
    "            potential_pos = list(self.pos)\n",
    "            potential_pos[1] += i\n",
    "            valid_moves.append(tuple(potential_pos))\n",
    "        valid_moves.remove((self.pos[0],self.pos[1]))\n",
    "            \n",
    "        return(valid_moves)\n",
    "#there are four bishops in the game (w for white, b for black)\n",
    "#each bishop is an object of class Piece \n",
    "\n",
    "#defining attributes for bishops \n"
   ]
  },
  {
   "cell_type": "code",
   "execution_count": 52,
   "id": "d0cfdff3-5f70-413b-8e45-68392444a40d",
   "metadata": {},
   "outputs": [
    {
     "data": {
      "text/plain": [
       "[(0, 4),\n",
       " (1, 4),\n",
       " (2, 4),\n",
       " (4, 4),\n",
       " (5, 4),\n",
       " (6, 4),\n",
       " (7, 4),\n",
       " (3, 0),\n",
       " (3, 1),\n",
       " (3, 2),\n",
       " (3, 3),\n",
       " (3, 5),\n",
       " (3, 6),\n",
       " (3, 7)]"
      ]
     },
     "execution_count": 52,
     "metadata": {},
     "output_type": "execute_result"
    }
   ],
   "source": [
    "rook = Rook((3, 4))\n",
    "rook.move_is_valid()"
   ]
  },
  {
   "cell_type": "code",
   "execution_count": null,
   "id": "4290cf3c-fc36-441d-b72c-8fa27b597860",
   "metadata": {},
   "outputs": [],
   "source": []
  }
 ],
 "metadata": {
  "kernelspec": {
   "display_name": "Python 3 (ipykernel)",
   "language": "python",
   "name": "python3"
  },
  "language_info": {
   "codemirror_mode": {
    "name": "ipython",
    "version": 3
   },
   "file_extension": ".py",
   "mimetype": "text/x-python",
   "name": "python",
   "nbconvert_exporter": "python",
   "pygments_lexer": "ipython3",
   "version": "3.10.11"
  }
 },
 "nbformat": 4,
 "nbformat_minor": 5
}
