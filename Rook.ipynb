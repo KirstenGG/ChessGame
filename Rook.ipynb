{
 "cells": [
  {
   "cell_type": "code",
   "execution_count": 22,
   "id": "f4686897-3265-4315-9367-42836736f9b8",
   "metadata": {},
   "outputs": [],
   "source": [
    "from abc import ABC, abstractmethod \n",
    "\n",
    "class Rook(Piece):\n",
    "    def __init__(self, pos):\n",
    "        self.pos = pos\n",
    "        self.has_moved = False\n",
    "        \n",
    "    def get_valids(self):\n",
    "        x = self.pos[0]\n",
    "        y = self.pos[1]\n",
    "        \n",
    "        valid_moves_y = [(i, y) for i in range(8)] #  left or right\n",
    "        valid_moves_y.remove((3,4))\n",
    "        \n",
    "        valid_moves_x = [(x, i)for i in range(8)] # up or down              \n",
    "        valid_moves_x.remove((3,4))\n",
    "\n",
    "        valid_moves = []\n",
    "\n",
    "        for i in valid_moves_x:\n",
    "            valid_moves.append(i)\n",
    "\n",
    "        for i in valid_moves_y:\n",
    "            valid_moves.append(i)\n",
    "        \n",
    "        return valid_moves"
   ]
  },
  {
   "cell_type": "code",
   "execution_count": 23,
   "id": "e2966923-07f0-4f19-bffa-3980cb7e6976",
   "metadata": {},
   "outputs": [],
   "source": [
    "# rook's move: left, right, up, down,range 1-7\n",
    "\n",
    "rook = Rook((3,4))"
   ]
  },
  {
   "cell_type": "code",
   "execution_count": 24,
   "id": "d1b617a5-cce3-41f3-a60b-94ac59a7fba5",
   "metadata": {},
   "outputs": [
    {
     "data": {
      "text/plain": [
       "[(3, 0),\n",
       " (3, 1),\n",
       " (3, 2),\n",
       " (3, 3),\n",
       " (3, 5),\n",
       " (3, 6),\n",
       " (3, 7),\n",
       " (0, 4),\n",
       " (1, 4),\n",
       " (2, 4),\n",
       " (4, 4),\n",
       " (5, 4),\n",
       " (6, 4),\n",
       " (7, 4)]"
      ]
     },
     "execution_count": 24,
     "metadata": {},
     "output_type": "execute_result"
    }
   ],
   "source": [
    "rook.get_valids()"
   ]
  },
  {
   "cell_type": "code",
   "execution_count": null,
   "id": "985ee46d-c87b-4c72-96ca-d9ad27f5c9ba",
   "metadata": {},
   "outputs": [],
   "source": []
  }
 ],
 "metadata": {
  "kernelspec": {
   "display_name": "Python 3 (ipykernel)",
   "language": "python",
   "name": "python3"
  },
  "language_info": {
   "codemirror_mode": {
    "name": "ipython",
    "version": 3
   },
   "file_extension": ".py",
   "mimetype": "text/x-python",
   "name": "python",
   "nbconvert_exporter": "python",
   "pygments_lexer": "ipython3",
   "version": "3.12.0"
  }
 },
 "nbformat": 4,
 "nbformat_minor": 5
}
