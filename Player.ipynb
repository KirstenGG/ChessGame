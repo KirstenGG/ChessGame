{
 "cells": [
  {
   "cell_type": "code",
   "execution_count": 1,
   "id": "71d7b38e-f7ad-45d9-af04-729e832db4bf",
   "metadata": {},
   "outputs": [
    {
     "name": "stdin",
     "output_type": "stream",
     "text": [
      "Input piece's current position:  f8\n",
      "Input piece's desired position:  c8\n"
     ]
    }
   ],
   "source": [
    "class Player:\n",
    "    def __init__(self, is_white):\n",
    "        self.is_white = is_white\n",
    "\n",
    "    def input_move(self):\n",
    "        self.select_origin = input(\"Input piece's current position: \")\n",
    "        self.select_destination = input(\"Input piece's desired position: \")\n",
    "\n",
    "player_1 = Player(True)\n",
    "player_1.input_move()"
   ]
  },
  {
   "cell_type": "code",
   "execution_count": 2,
   "id": "fcc31bd1-98b5-4254-80c6-7823f0eab1a5",
   "metadata": {},
   "outputs": [
    {
     "data": {
      "text/plain": [
       "('f8', 'c8')"
      ]
     },
     "execution_count": 2,
     "metadata": {},
     "output_type": "execute_result"
    }
   ],
   "source": [
    "player_1.select_origin, player_1.select_destination"
   ]
  }
 ],
 "metadata": {
  "kernelspec": {
   "display_name": "Python 3 (ipykernel)",
   "language": "python",
   "name": "python3"
  },
  "language_info": {
   "codemirror_mode": {
    "name": "ipython",
    "version": 3
   },
   "file_extension": ".py",
   "mimetype": "text/x-python",
   "name": "python",
   "nbconvert_exporter": "python",
   "pygments_lexer": "ipython3",
   "version": "3.12.0"
  }
 },
 "nbformat": 4,
 "nbformat_minor": 5
}
