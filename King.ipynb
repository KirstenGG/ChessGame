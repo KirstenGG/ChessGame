{
 "cells": [
  {
   "cell_type": "code",
   "execution_count": null,
   "id": "d9eedaab-25f1-4539-b738-ec3ffde99cda",
   "metadata": {},
   "outputs": [],
   "source": [
    "class King:\n",
    "    def __init__(self, color, (x, y)):\n",
    "        self.position = (x,y) \n",
    "        self.color = ('white','black') # add color\n",
    "        self.has_moved = False #?\n",
    "        \n",
    "white_king = King('white',(0,4)) # starting location for white king\n",
    "black_king = King('black',(7,5)) # starting location for black king"
   ]
  },
  {
   "cell_type": "code",
   "execution_count": null,
   "id": "2f3ed3e0-8e71-472c-a321-e0e7dae33c83",
   "metadata": {},
   "outputs": [],
   "source": [
    "# king's move: 1 square to each direction, 8 in total\n",
    "\n",
    "def King_valid_moves(self,):\n",
    "    valid_moves = []\n",
    "    moves = [(self.x+1,self.y+0), # one step right\n",
    "                  (self.x+1,self.y+1),  # one step right upper\n",
    "                  (self.x+1,self.y-1),  # one step right lower\n",
    "                  (self.x+0,self.y+1),  # one step up\n",
    "                  (self.x+0,self.y-1),  # one step down\n",
    "                  (self.x-1,self.y+0),  # one step left\n",
    "                  (self.x-1,self.y-1),  # one step left lower\n",
    "                  (self.x-1,self.y+1)   # one step left upper\n",
    "                  ]\n",
    "    \n",
    "    for move in moves:\n",
    "        if 0<=self.x+1<=7,or 0<=self.x-1<=7, or 0<=self.x+0<=7,\n",
    "        and 0<=self.y+1<=7,or 0<=self.y-1<=7, or 0<=self.y+0<=7:\n",
    "            pass\n",
    "        else:\n",
    "            return ('Error!')\n",
    "      \n"
   ]
  }
 ],
 "metadata": {
  "kernelspec": {
   "display_name": "Python 3 (ipykernel)",
   "language": "python",
   "name": "python3"
  },
  "language_info": {
   "codemirror_mode": {
    "name": "ipython",
    "version": 3
   },
   "file_extension": ".py",
   "mimetype": "text/x-python",
   "name": "python",
   "nbconvert_exporter": "python",
   "pygments_lexer": "ipython3",
   "version": "3.11.5"
  }
 },
 "nbformat": 4,
 "nbformat_minor": 5
}
