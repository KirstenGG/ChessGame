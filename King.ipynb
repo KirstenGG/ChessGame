{
 "cells": [
  {
   "cell_type": "code",
   "execution_count": 1,
   "id": "d9eedaab-25f1-4539-b738-ec3ffde99cda",
   "metadata": {},
   "outputs": [],
   "source": [
    "class King:\n",
    "    def __init__(self, pos, color, has_moved, rooks_moved):\n",
    "        self.pos = pos \n",
    "        self.color = color # add color\n",
    "        self.has_moved = has_moved\n",
    "        self.lr_moved = rooks_moved[0]\n",
    "        self.rr_moved = rooks_moved[1]\n",
    "        \n",
    "    def get_valids(self):\n",
    "        x = self.pos[0]\n",
    "        y = self.pos[1]\n",
    "        valid_moves = []\n",
    "        x_below_8 = x + 1 < 8\n",
    "        y_below_8 = y + 1 < 8\n",
    "        x_above_0 = x - 1 > 0\n",
    "        y_above_0 = y - 1 > 0\n",
    "        \n",
    "        if x_below_8:\n",
    "            valid_moves.append((x+1, y))\n",
    "            if y_below_8:\n",
    "                valid_moves.append((x+1, y+1))\n",
    "            if y_above_0:\n",
    "                valid_moves.append((x+1, y-1))\n",
    "        if x_above_0:\n",
    "            valid_moves.append((x-1, y))\n",
    "            if y_below_8:\n",
    "                valid_moves.append((x-1, y+1))\n",
    "            if y_above_0:\n",
    "                valid_moves.append((x-1, y-1))\n",
    "        if y_below_8:\n",
    "            valid_moves.append((x, y+1))\n",
    "        if y_above_0:\n",
    "            valid_moves.append((x, y-1))\n",
    "\n",
    "        if not self.has_moved and not self.lr_moved:\n",
    "            valid_moves.append((x, y-2))\n",
    "        if not self.has_moved and not self.rr_moved:\n",
    "            valid_moves.append((x, y+2))\n",
    "        \n",
    "        return valid_moves"
   ]
  },
  {
   "cell_type": "code",
   "execution_count": 3,
   "id": "a541c5f1-75c5-4e46-a5e7-ab4948f4d002",
   "metadata": {},
   "outputs": [
    {
     "data": {
      "text/plain": [
       "True"
      ]
     },
     "execution_count": 3,
     "metadata": {},
     "output_type": "execute_result"
    }
   ],
   "source": [
    "a = 3\n",
    "0 < a < 8"
   ]
  },
  {
   "cell_type": "code",
   "execution_count": null,
   "id": "60ec0238-bf3f-4c93-a238-1fcf75186024",
   "metadata": {},
   "outputs": [],
   "source": []
  }
 ],
 "metadata": {
  "kernelspec": {
   "display_name": "Python 3 (ipykernel)",
   "language": "python",
   "name": "python3"
  },
  "language_info": {
   "codemirror_mode": {
    "name": "ipython",
    "version": 3
   },
   "file_extension": ".py",
   "mimetype": "text/x-python",
   "name": "python",
   "nbconvert_exporter": "python",
   "pygments_lexer": "ipython3",
   "version": "3.12.0"
  }
 },
 "nbformat": 4,
 "nbformat_minor": 5
}
