{
 "cells": [
  {
   "cell_type": "code",
   "execution_count": null,
   "id": "f4686897-3265-4315-9367-42836736f9b8",
   "metadata": {},
   "outputs": [],
   "source": [
    "class Rook:\n",
    "    def __init__(self, color, (x, y)):\n",
    "        self.position = (x,y) \n",
    "        self.color = ('white','black') # add color\n",
    "        self.has_moved = False #?\n",
    "        \n",
    "white_rook1 = Rook('white',(0,0)) # starting location for white rook\n",
    "white_rook2 = Rook('white',(0,7))\n",
    "\n",
    "black_rook1 = Rook('black',(7,0)) # starting location for black rook\n",
    "black_rook2 = Rook('black',(7,7))"
   ]
  },
  {
   "cell_type": "code",
   "execution_count": null,
   "id": "e2966923-07f0-4f19-bffa-3980cb7e6976",
   "metadata": {},
   "outputs": [],
   "source": [
    "# rook's move: left, right, up, down,range 1-7\n",
    "\n",
    "def Rook_valid_moves(self,):\n",
    "    valid_moves = []\n",
    "    moves = [[(self.x+i,self.y) for i in range(-7,7)], #  left or right\n",
    "             [(self.x,self.y+i)for i in range(-7,7)] # up or down\n",
    "                  ]\n",
    "    \n",
    "    for move in moves:\n",
    "        if 0<=self.x+i<=7,\n",
    "        and 0<=self.y+i<=7:\n",
    "            pass\n",
    "        else:\n",
    "            return ('Error!')"
   ]
  }
 ],
 "metadata": {
  "kernelspec": {
   "display_name": "Python 3 (ipykernel)",
   "language": "python",
   "name": "python3"
  },
  "language_info": {
   "codemirror_mode": {
    "name": "ipython",
    "version": 3
   },
   "file_extension": ".py",
   "mimetype": "text/x-python",
   "name": "python",
   "nbconvert_exporter": "python",
   "pygments_lexer": "ipython3",
   "version": "3.11.5"
  }
 },
 "nbformat": 4,
 "nbformat_minor": 5
}
