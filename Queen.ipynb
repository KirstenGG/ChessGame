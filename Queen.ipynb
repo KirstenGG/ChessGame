{
 "cells": [
  {
   "cell_type": "markdown",
   "id": "21f2e989-c9fd-4798-b6b7-e4df3141e432",
   "metadata": {},
   "source": [
    "Queen "
   ]
  },
  {
   "cell_type": "code",
   "execution_count": null,
   "id": "265df1a5-e103-49ff-b16d-66f025ab15ba",
   "metadata": {},
   "outputs": [],
   "source": [
    "# Board is classGame "
   ]
  },
  {
   "cell_type": "code",
   "execution_count": null,
   "id": "e881466d-5e8b-4a52-b141-fb56aba46d5f",
   "metadata": {},
   "outputs": [],
   "source": [
    "# ## applies the rook moves to the board then the bishop moves because a queen is basically a rook and bishop in the same position.\n",
    "# def queen_moves(index):\n",
    "#     board = rook_moves(index)\n",
    "#     board = bishop_moves(index)\n",
    "#     return board"
   ]
  },
  {
   "cell_type": "code",
   "execution_count": 13,
   "id": "f3484cd8-31b3-4fd2-a1fb-2fb49c6e8f66",
   "metadata": {},
   "outputs": [],
   "source": [
    "from abc import ABC, abstractmethod #abc is already installed in python. \n",
    "\n",
    "class Piece(ABC):\n",
    "    def __init__(self, piece, rank, file):\n",
    "        def move_piece(self, piece, rank, file):\n",
    "            pass"
   ]
  },
  {
   "cell_type": "code",
   "execution_count": 9,
   "id": "6376766c-2bbd-408c-aaae-27c6b977a92b",
   "metadata": {},
   "outputs": [],
   "source": [
    " def move_piece(self, piece, rank, file):\n",
    "        \"\"\"Move piece to a new location. Handle capturing other pieces, updating threats, etc.\"\"\"\n",
    "        ...\n",
    "def piece_at(self, rank, file):\n",
    "        \"\"\"Return piece at given location, or None.\"\"\"\n",
    "        return self.squares[rank][file].piece\n",
    "\n",
    "def place_piece(self, piece, rank, file):\n",
    "        \"\"\"Place piece on the board. Check for collisions, update threats, etc.\"\"\"\n",
    "        ..."
   ]
  },
  {
   "cell_type": "code",
   "execution_count": null,
   "id": "77f8eec7-fff5-43bc-ab90-22b491dffd8f",
   "metadata": {},
   "outputs": [],
   "source": [
    "class Queen(Piece):\n",
    "    def legal_moves(self):  #\n",
    "        pass"
   ]
  },
  {
   "cell_type": "code",
   "execution_count": null,
   "id": "cdebcd90-2064-46b1-a69a-06b1162479a6",
   "metadata": {},
   "outputs": [],
   "source": [
    "BlackQueen = ChessPiece(\"Queen\", 4, 8)"
   ]
  },
  {
   "cell_type": "code",
   "execution_count": null,
   "id": "74215a41-18c4-4d1c-92bd-d40f62904d1c",
   "metadata": {},
   "outputs": [],
   "source": [
    "WhiteQueen = ChessPiece(\"Queen\", 4, 1)"
   ]
  },
  {
   "cell_type": "code",
   "execution_count": null,
   "id": "decbb953-68e3-444b-afd0-cff82ec3aa9b",
   "metadata": {},
   "outputs": [],
   "source": [
    " def get_valid_moves(self, game):\n",
    "        valid_moves = []\n",
    "        moves = [[(self.x, self.y-j) for j in range(1, 8)],  # | up\n",
    "                 [(self.x+j, self.y) for j in range(1, 8)],  # -- right\n",
    "                 [(self.x-j, self.y) for j in range(1, 8)],  # -- left\n",
    "                 [(self.x, self.y+j) for j in range(1, 8)],  # | down\n",
    "                 [(self.x-j, self.y-j) for j in range(1, 8)],  # \\ up-left\n",
    "                 [(self.x+j, self.y-j) for j in range(1, 8)],  # / up-right\n",
    "                 [(self.x-j, self.y+j) for j in range(1, 8)],  # / down-left\n",
    "                 [(self.x+j, self.y+j) for j in range(1, 8)]  # \\ down-right\n",
    "                 ]\n",
    "        for directions in moves:\n",
    "            for move in directions:\n",
    "                if game.move_within_bounds(move):\n",
    "                    if game.cell_is_piece(move):\n",
    "                        if game.board[move[0]][move[1]].player != self.player:\n",
    "                            valid_moves.append(move)\n",
    "                        break\n",
    "                    valid_moves.append(move)\n",
    "\n",
    "        return valid_moves"
   ]
  }
 ],
 "metadata": {
  "kernelspec": {
   "display_name": "Python 3 (ipykernel)",
   "language": "python",
   "name": "python3"
  },
  "language_info": {
   "codemirror_mode": {
    "name": "ipython",
    "version": 3
   },
   "file_extension": ".py",
   "mimetype": "text/x-python",
   "name": "python",
   "nbconvert_exporter": "python",
   "pygments_lexer": "ipython3",
   "version": "3.10.11"
  }
 },
 "nbformat": 4,
 "nbformat_minor": 5
}
