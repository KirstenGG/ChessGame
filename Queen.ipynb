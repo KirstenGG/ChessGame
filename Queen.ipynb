{
 "cells": [
  {
   "cell_type": "code",
   "execution_count": 6,
   "id": "f4686897-3265-4315-9367-42836736f9b8",
   "metadata": {},
   "outputs": [
    {
     "ename": "NameError",
     "evalue": "name 'Piece' is not defined",
     "output_type": "error",
     "traceback": [
      "\u001b[1;31m---------------------------------------------------------------------------\u001b[0m",
      "\u001b[1;31mNameError\u001b[0m                                 Traceback (most recent call last)",
      "Cell \u001b[1;32mIn[6], line 3\u001b[0m\n\u001b[0;32m      1\u001b[0m \u001b[38;5;28;01mfrom\u001b[39;00m \u001b[38;5;21;01mabc\u001b[39;00m \u001b[38;5;28;01mimport\u001b[39;00m ABC, abstractmethod \n\u001b[1;32m----> 3\u001b[0m \u001b[38;5;28;01mclass\u001b[39;00m \u001b[38;5;21;01mQueen\u001b[39;00m(\u001b[43mPiece\u001b[49m):\n\u001b[0;32m      4\u001b[0m     \u001b[38;5;28;01mdef\u001b[39;00m \u001b[38;5;21m__init__\u001b[39m(\u001b[38;5;28mself\u001b[39m, pos):\n\u001b[0;32m      5\u001b[0m         \u001b[38;5;28mself\u001b[39m\u001b[38;5;241m.\u001b[39mpos \u001b[38;5;241m=\u001b[39m pos\n",
      "\u001b[1;31mNameError\u001b[0m: name 'Piece' is not defined"
     ]
    }
   ],
   "source": [
    "from abc import ABC, abstractmethod \n",
    "\n",
    "class Queen:\n",
    "    def __init__(self, pos):\n",
    "        self.pos = pos\n",
    "        \n",
    "    def get_valids(self):\n",
    "        x = self.pos[0]\n",
    "        y = self.pos[1]\n",
    "\n",
    "        # rook moves\n",
    "        \n",
    "        valid_moves_y = [(i, y) for i in range(8)] #  left or right\n",
    "        valid_moves_y.remove((3,4))\n",
    "        \n",
    "        valid_moves_x = [(x, i)for i in range(8)] # up or down              \n",
    "        valid_moves_x.remove((3,4))\n",
    "\n",
    "        valid_moves = []\n",
    "\n",
    "        for i in valid_moves_x:\n",
    "            valid_moves.append(i)\n",
    "\n",
    "        for i in valid_moves_y:\n",
    "            valid_moves.append(i)\n",
    "\n",
    "        # bishop moves\n",
    "\n",
    "        if y-x >= 0:\n",
    "            d1_initial = [0, y-x]\n",
    "        else:\n",
    "            d1_initial = [x-y, 0]\n",
    "        \n",
    "        distance_to_final = 7 - max(x,y)\n",
    "\n",
    "        if y-x >= 0:\n",
    "            d1_final = [x + distance_to_final, 7]\n",
    "        else:\n",
    "            d1_final = [7, y + distance_to_final]\n",
    "        \n",
    "        d1_xlist = list(range(d1_initial[0], d1_final[0]+1))\n",
    "        d1_ylist = list(range(d1_initial[1], d1_final[1]+1))\n",
    "        d1_valids = []\n",
    "        for i in range(len(d1_xlist)):\n",
    "            d1_valids.append((d1_xlist[i], d1_ylist[i]))\n",
    "        d1_valids.remove((x, y))\n",
    "\n",
    "        sum = y + x\n",
    "        if sum > 7:\n",
    "            d2_initial = sum-7\n",
    "            d2_final = 7\n",
    "        else:\n",
    "            d2_initial = 0\n",
    "            d2_final = sum\n",
    "        \n",
    "        d2_xlist = list(range(d2_initial, d2_final+1))\n",
    "        d2_ylist = list(range(d2_initial, d2_final+1))\n",
    "        d2_ylist.reverse()\n",
    "        d2_valids = []\n",
    "        for i in range(len(d2_xlist)):\n",
    "            d2_valids.append((d2_xlist[i], d2_ylist[i]))\n",
    "        d2_valids.remove((x, y))\n",
    "\n",
    "        for i in d1_valids:\n",
    "            valid_moves.append(i)\n",
    "\n",
    "        for i in d2_valids:\n",
    "            valid_moves.append(i)\n",
    "        \n",
    "        return valid_moves"
   ]
  },
  {
   "cell_type": "code",
   "execution_count": 3,
   "id": "e2966923-07f0-4f19-bffa-3980cb7e6976",
   "metadata": {},
   "outputs": [],
   "source": [
    "# rook's move: left, right, up, down,range 1-7\n",
    "\n",
    "queen = Queen((3,4))"
   ]
  },
  {
   "cell_type": "code",
   "execution_count": 5,
   "id": "d1b617a5-cce3-41f3-a60b-94ac59a7fba5",
   "metadata": {},
   "outputs": [
    {
     "data": {
      "text/plain": [
       "[(3, 0),\n",
       " (3, 1),\n",
       " (3, 2),\n",
       " (3, 3),\n",
       " (3, 5),\n",
       " (3, 6),\n",
       " (3, 7),\n",
       " (0, 4),\n",
       " (1, 4),\n",
       " (2, 4),\n",
       " (4, 4),\n",
       " (5, 4),\n",
       " (6, 4),\n",
       " (7, 4),\n",
       " (0, 1),\n",
       " (1, 2),\n",
       " (2, 3),\n",
       " (4, 5),\n",
       " (5, 6),\n",
       " (6, 7),\n",
       " (0, 7),\n",
       " (1, 6),\n",
       " (2, 5),\n",
       " (4, 3),\n",
       " (5, 2),\n",
       " (6, 1),\n",
       " (7, 0)]"
      ]
     },
     "execution_count": 5,
     "metadata": {},
     "output_type": "execute_result"
    }
   ],
   "source": [
    "queen.get_valids()"
   ]
  },
  {
   "cell_type": "code",
   "execution_count": null,
   "id": "985ee46d-c87b-4c72-96ca-d9ad27f5c9ba",
   "metadata": {},
   "outputs": [],
   "source": []
  }
 ],
 "metadata": {
  "kernelspec": {
   "display_name": "Python 3 (ipykernel)",
   "language": "python",
   "name": "python3"
  },
  "language_info": {
   "codemirror_mode": {
    "name": "ipython",
    "version": 3
   },
   "file_extension": ".py",
   "mimetype": "text/x-python",
   "name": "python",
   "nbconvert_exporter": "python",
   "pygments_lexer": "ipython3",
   "version": "3.12.0"
  }
 },
 "nbformat": 4,
 "nbformat_minor": 5
}
