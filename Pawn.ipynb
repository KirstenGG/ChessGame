{
 "cells": [
  {
   "cell_type": "code",
   "execution_count": 23,
   "id": "2423fd9b-0032-4139-b447-e4ed4ac06518",
   "metadata": {},
   "outputs": [],
   "source": [
    "class Pawn:\n",
    "    def __init__(self, is_white, pos, capt, en_p):\n",
    "        self.is_white = is_white\n",
    "        self.pos = pos\n",
    "        self.capt = capt\n",
    "        self.en_p = en_p\n",
    "        \n",
    "    def get_valids(self):\n",
    "        x = self.pos[0]\n",
    "        y = self.pos[1]       \n",
    "        valid_moves = [(x, y+1)]\n",
    "        if self.is_white:\n",
    "            if y == 6:\n",
    "                valid_moves.append((x, y-2))\n",
    "            if self.capt[0] or self.en_p[0]:\n",
    "                valid_moves.append((x-1, y-1))\n",
    "            if self.capt[1] or self.en_p[1]:\n",
    "                valid_moves.append((x+1, y-1))\n",
    "        else:\n",
    "            if y == 1:\n",
    "                valid_moves.append((x, y+2))\n",
    "            if self.capt[0] or self.en_p[0]:\n",
    "                valid_moves.append((x-1, y+1))\n",
    "            if self.capt[1] or self.en_p[1]:\n",
    "                valid_moves.append((x+1, y+1))\n",
    "        return valid_moves"
   ]
  },
  {
   "cell_type": "code",
   "execution_count": 24,
   "id": "006dfe1d-9bab-4332-a893-131daf561be2",
   "metadata": {},
   "outputs": [
    {
     "data": {
      "text/plain": [
       "[(1, 2), (0, 0)]"
      ]
     },
     "execution_count": 24,
     "metadata": {},
     "output_type": "execute_result"
    }
   ],
   "source": [
    "pawn = Pawn(True, (1,1), (True, False), (False, False))\n",
    "pawn.get_valids()"
   ]
  },
  {
   "cell_type": "code",
   "execution_count": null,
   "id": "d05beab8-05a2-42f3-838c-96c634ff67e3",
   "metadata": {},
   "outputs": [],
   "source": []
  }
 ],
 "metadata": {
  "kernelspec": {
   "display_name": "Python 3 (ipykernel)",
   "language": "python",
   "name": "python3"
  },
  "language_info": {
   "codemirror_mode": {
    "name": "ipython",
    "version": 3
   },
   "file_extension": ".py",
   "mimetype": "text/x-python",
   "name": "python",
   "nbconvert_exporter": "python",
   "pygments_lexer": "ipython3",
   "version": "3.12.0"
  }
 },
 "nbformat": 4,
 "nbformat_minor": 5
}
