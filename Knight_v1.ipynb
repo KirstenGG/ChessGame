{
 "cells": [
  {
   "cell_type": "code",
   "execution_count": 28,
   "id": "1cc657ca-da6a-44c9-81be-3f934465d67f",
   "metadata": {
    "tags": []
   },
   "outputs": [],
   "source": [
    "# notation\n",
    "def split_notation(notation):\n",
    "        notation_rank = list(notation)[1]\n",
    "        notation_file = list(notation)[0]\n",
    "        rank_to_y = {\"a\":0, \"b\":1, \"c\":2, \"d\":3, \"e\":4, \"f\":5, \"g\":6, \"h\":7}\n",
    "        notation_x = 8 - int(notation_rank)\n",
    "        notation_y = rank_to_y.get(notation_file)\n",
    "        return notation_x, notation_y"
   ]
  },
  {
   "cell_type": "code",
   "execution_count": 29,
   "id": "88929c1c-08d0-4e67-b0ef-db5517a78f9d",
   "metadata": {
    "tags": []
   },
   "outputs": [],
   "source": [
    "from abc import ABC, abstractmethod\n",
    "\n",
    "class Piece:\n",
    "    \n",
    "    #original code from Piece file\n",
    "    @abstractmethod\n",
    "    def __init__(self, position, is_white):\n",
    "        self.pos_x = split_notation(position)[0]\n",
    "        self.pos_y = split_notation(position)[1]\n",
    "        self.has_moved = False\n",
    "    \n",
    "    #original code from Piece file\n",
    "    @abstractmethod\n",
    "    def make_move(self, destination):\n",
    "        dest_x = split_notation(destination)[0]\n",
    "        dest_y = split_notation(destination)[1]\n",
    "        if Board.move_is_valid():\n",
    "            self.pos_x = dest_x\n",
    "            self.pos_y = dest_y\n",
    "        else:\n",
    "            print(\"Invalid move, try again\")\n",
    "    \n",
    "    # added due to error mentioning split_notation funtion not in Piece\n",
    "    @abstractmethod\n",
    "    def split_notation(notation):\n",
    "        notation_rank = list(notation)[1]\n",
    "        notation_file = list(notation)[0]\n",
    "        rank_to_y = {\"a\":0, \"b\":1, \"c\":2, \"d\":3, \"e\":4, \"f\":5, \"g\":6, \"h\":7}\n",
    "        notation_x = 8 - int(notation_rank)\n",
    "        notation_y = rank_to_y.get(notation_file)\n",
    "        return notation_x, notation_y            \n",
    "    \n",
    "    # added due to error mentioning get_piece_at() funtion not in Piece        \n",
    "    @abstractmethod\n",
    "    def get_piece_at(self, position):\n",
    "\n",
    "        position_xy = self.split_notation(position)\n",
    "        i = position_xy[0]\n",
    "        j = position_xy[1]\n",
    "        return self.board[i][j]\n",
    "    \n",
    "    # added due to error mentioning is_piece() funtion not in Piece  \n",
    "    @abstractmethod\n",
    "    def is_piece(self, position):\n",
    "\n",
    "        if self.get_piece_at(position) == 0:\n",
    "            return True\n",
    "        else:\n",
    "            return False\n",
    "        \n",
    "    #original code from Piece file\n",
    "    @abstractmethod\n",
    "    def capture(self):\n",
    "        pass"
   ]
  },
  {
   "cell_type": "code",
   "execution_count": 37,
   "id": "2743ca25-4c2b-4aee-bc72-95b790d0a8a7",
   "metadata": {
    "tags": []
   },
   "outputs": [],
   "source": [
    "# create knight class as child class of class Piece()\n",
    "\n",
    "class Knight(Piece):\n",
    "    \n",
    "    def __init__(self, color, position):\n",
    "        self.color = color\n",
    "        self.position = 'a1' # avoid noneType error\n",
    "        \n",
    "    # Rule for Knight's move: 1 square to each direction, 8 in total    \n",
    "    def is_valid_move(self,new_position):\n",
    "        #another way to avoide noneType error but not used \n",
    "        #if self.position == None:\n",
    "          #  return False\n",
    "            \n",
    "        valid_col = 'abcdefgh'\n",
    "        valid_row = '12345678'\n",
    "        \n",
    "        col,row = new_position\n",
    "        \n",
    "        if len(new_position)!= 2:\n",
    "            print(\"invalid input\")\n",
    "            return False\n",
    "        \n",
    "        col_diff = abs(ord(new_position[0])) - abs(ord(self.position[0]))\n",
    "        row_diff = abs(int(new_position[1])) - abs(ord(self.position[1]))\n",
    "        \n",
    "        if col_diff == 2 and row_diff == 1 or col_diff ==1 and row_diff == 2:\n",
    "            return True\n",
    "        else:\n",
    "            return False\n",
    "\n",
    "    # make move\n",
    "    def move(self,new_position):\n",
    "        if self.is_valid_move(new_position):\n",
    "            self.position = new_position\n",
    "            print(f'{self.color} knight moves to {new_position}')\n",
    "        else:\n",
    "            print('Invalid move for the knight')"
   ]
  },
  {
   "cell_type": "code",
   "execution_count": 38,
   "id": "b6a5e1cb-db83-4ec4-bef2-f6302d6f5784",
   "metadata": {
    "tags": []
   },
   "outputs": [],
   "source": [
    "# create kings and their initial position\n",
    "white_knight1 = Knight('white','b1')\n",
    "white_knight2 = Knight('white','g1')\n",
    "black_knight1 = Knight('black','b8')\n",
    "black_knight2 = Knight('black','g8')"
   ]
  },
  {
   "cell_type": "code",
   "execution_count": 47,
   "id": "feb6a803-d2fc-4a76-a5a7-36e23bb2f212",
   "metadata": {
    "tags": []
   },
   "outputs": [
    {
     "name": "stdout",
     "output_type": "stream",
     "text": [
      "Invalid move for the knight\n"
     ]
    }
   ],
   "source": [
    "# check valid moves\n",
    "white_knight1.move(\"b2\")"
   ]
  },
  {
   "cell_type": "code",
   "execution_count": 44,
   "id": "fb847368-d20a-40e0-89d8-fbfa55b41ace",
   "metadata": {
    "tags": []
   },
   "outputs": [
    {
     "name": "stdout",
     "output_type": "stream",
     "text": [
      "Invalid move for the knight\n"
     ]
    }
   ],
   "source": [
    "# check invalid moves\n",
    "black_knight2.move('e3')"
   ]
  },
  {
   "cell_type": "code",
   "execution_count": 45,
   "id": "2e10614f-5d0d-4494-a74c-95ff6b39b3d9",
   "metadata": {
    "tags": []
   },
   "outputs": [
    {
     "name": "stdout",
     "output_type": "stream",
     "text": [
      "Invalid move for the knight\n"
     ]
    }
   ],
   "source": [
    "black_knight2.move('f6')"
   ]
  },
  {
   "cell_type": "code",
   "execution_count": null,
   "id": "366b35ff-e2fb-4727-8f9a-48568f13c79c",
   "metadata": {},
   "outputs": [],
   "source": []
  }
 ],
 "metadata": {
  "kernelspec": {
   "display_name": "Python 3 (ipykernel)",
   "language": "python",
   "name": "python3"
  },
  "language_info": {
   "codemirror_mode": {
    "name": "ipython",
    "version": 3
   },
   "file_extension": ".py",
   "mimetype": "text/x-python",
   "name": "python",
   "nbconvert_exporter": "python",
   "pygments_lexer": "ipython3",
   "version": "3.11.5"
  }
 },
 "nbformat": 4,
 "nbformat_minor": 5
}
